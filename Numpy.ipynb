{
  "nbformat": 4,
  "nbformat_minor": 0,
  "metadata": {
    "colab": {
      "provenance": [],
      "authorship_tag": "ABX9TyPLcUM/WHobRGnWjrIHxXtC",
      "include_colab_link": true
    },
    "kernelspec": {
      "name": "python3",
      "display_name": "Python 3"
    },
    "language_info": {
      "name": "python"
    }
  },
  "cells": [
    {
      "cell_type": "markdown",
      "metadata": {
        "id": "view-in-github",
        "colab_type": "text"
      },
      "source": [
        "<a href=\"https://colab.research.google.com/github/21pa1a6136/Numpy/blob/main/Numpy.ipynb\" target=\"_parent\"><img src=\"https://colab.research.google.com/assets/colab-badge.svg\" alt=\"Open In Colab\"/></a>"
      ]
    },
    {
      "cell_type": "code",
      "execution_count": 12,
      "metadata": {
        "colab": {
          "base_uri": "https://localhost:8080/",
          "height": 0
        },
        "id": "Frwf5-mQbA_7",
        "outputId": "d856c6bd-e0a4-44a9-8fdb-ca88a43e648c"
      },
      "outputs": [
        {
          "output_type": "stream",
          "name": "stdout",
          "text": [
            "[1 2 3]\n"
          ]
        }
      ],
      "source": [
        "import numpy as np\n",
        "x=np.array([1,2,3])\n",
        "print(x)"
      ]
    },
    {
      "cell_type": "code",
      "source": [
        "y=np.array([[1,2,3],[4,5,6]])\n",
        "print(y)\n"
      ],
      "metadata": {
        "colab": {
          "base_uri": "https://localhost:8080/",
          "height": 0
        },
        "id": "0IrtZ-52fEKD",
        "outputId": "43f2a7af-300a-40bc-da3f-0c39456f2b1d"
      },
      "execution_count": 13,
      "outputs": [
        {
          "output_type": "stream",
          "name": "stdout",
          "text": [
            "[[1 2 3]\n",
            " [4 5 6]]\n"
          ]
        }
      ]
    },
    {
      "cell_type": "code",
      "source": [
        "import numpy as np\n",
        "np.arange(10,30,5)"
      ],
      "metadata": {
        "colab": {
          "base_uri": "https://localhost:8080/",
          "height": 0
        },
        "id": "SmsZZAK_fEM3",
        "outputId": "49d068c4-ee50-4c13-a8b2-9abdca929198"
      },
      "execution_count": 14,
      "outputs": [
        {
          "output_type": "execute_result",
          "data": {
            "text/plain": [
              "array([10, 15, 20, 25])"
            ]
          },
          "metadata": {},
          "execution_count": 14
        }
      ]
    },
    {
      "cell_type": "code",
      "source": [
        "b=np.append(x,[4,5,6])\n",
        "print(b)"
      ],
      "metadata": {
        "colab": {
          "base_uri": "https://localhost:8080/",
          "height": 0
        },
        "id": "r8Il_4uofESj",
        "outputId": "0ff67db2-a239-4e95-812d-698f30234964"
      },
      "execution_count": 15,
      "outputs": [
        {
          "output_type": "stream",
          "name": "stdout",
          "text": [
            "[1 2 3 4 5 6]\n"
          ]
        }
      ]
    },
    {
      "cell_type": "code",
      "source": [
        "print(\"the elements in x before deleting\",x)\n",
        "newarray=np.delete(x,2)\n",
        "print(\"The elements in x after deleting\",newarray)"
      ],
      "metadata": {
        "colab": {
          "base_uri": "https://localhost:8080/",
          "height": 0
        },
        "id": "vm-YZerifEVn",
        "outputId": "d7c0af33-d709-42c0-ccb9-0af20c291bc4"
      },
      "execution_count": 16,
      "outputs": [
        {
          "output_type": "stream",
          "name": "stdout",
          "text": [
            "the elements in x before deleting [1 2 3]\n",
            "The elements in x after deleting [1 2]\n"
          ]
        }
      ]
    },
    {
      "cell_type": "code",
      "source": [
        "b=np.array([6,5,4,3,2,1])\n",
        "b[b<4]=-1\n",
        "print(b)"
      ],
      "metadata": {
        "colab": {
          "base_uri": "https://localhost:8080/",
          "height": 0
        },
        "id": "w814Qhm5fkxj",
        "outputId": "979e66a9-4d1e-4128-e2e5-fe56e57cc868"
      },
      "execution_count": 17,
      "outputs": [
        {
          "output_type": "stream",
          "name": "stdout",
          "text": [
            "[ 6  5  4 -1 -1 -1]\n"
          ]
        }
      ]
    },
    {
      "cell_type": "code",
      "source": [
        "a=np.array([20,30,40,50])\n",
        "b=np.arange(1,5)\n",
        "print(a)\n",
        "print(b)\n",
        "print(\"Add\",a+b)\n",
        "print(\"Sub\",a-b)\n",
        "print(\"Mult\",a*b)\n",
        "print(\"Div\",a/b)\n",
        "print(\"Power of b of 4\",b**4)\n",
        "print(\"Sin\",np.sin(a))\n",
        "a[0]+=10\n",
        "print(\"First number added by 10\",a)\n",
        "print(np.dot(a,b))"
      ],
      "metadata": {
        "colab": {
          "base_uri": "https://localhost:8080/",
          "height": 0
        },
        "id": "hjzNsCigfzhy",
        "outputId": "87ca1556-2359-4001-c617-20fd40f68c8e"
      },
      "execution_count": 23,
      "outputs": [
        {
          "output_type": "stream",
          "name": "stdout",
          "text": [
            "[20 30 40 50]\n",
            "[1 2 3 4]\n",
            "Add [21 32 43 54]\n",
            "Sub [19 28 37 46]\n",
            "Mult [ 20  60 120 200]\n",
            "Div [20.         15.         13.33333333 12.5       ]\n",
            "Power of b of 4 [  1  16  81 256]\n",
            "Sin [ 0.91294525 -0.98803162  0.74511316 -0.26237485]\n",
            "First number added by 10 [30 30 40 50]\n",
            "410\n"
          ]
        }
      ]
    },
    {
      "cell_type": "code",
      "source": [
        "a=np.arange(10)**3\n",
        "print(a)\n",
        "print(a[3])\n",
        "print(a[2:4])\n",
        "print(a[2:3])\n",
        "print(a[-1])\n",
        "print(a[-2])\n",
        "print(a[-5:-2])"
      ],
      "metadata": {
        "colab": {
          "base_uri": "https://localhost:8080/",
          "height": 0
        },
        "id": "1DXCcTmBhZlc",
        "outputId": "b966a845-bd77-41db-8f4d-54af778273c2"
      },
      "execution_count": 32,
      "outputs": [
        {
          "output_type": "stream",
          "name": "stdout",
          "text": [
            "[  0   1   8  27  64 125 216 343 512 729]\n",
            "27\n",
            "[ 8 27]\n",
            "[8]\n",
            "729\n",
            "512\n",
            "[125 216 343]\n"
          ]
        }
      ]
    },
    {
      "cell_type": "code",
      "source": [
        "a=np.arange(12).reshape(4,3)**2\n",
        "print(a)\n",
        "print(a[1:3])\n",
        "print(a[1:3,1:2])\n",
        "print(a[2])\n",
        "print(a[:3])\n",
        "print(a[-1])\n",
        "print(a[-1,-1])"
      ],
      "metadata": {
        "colab": {
          "base_uri": "https://localhost:8080/",
          "height": 0
        },
        "id": "r8lY6k_JiXep",
        "outputId": "c12cc53d-2b14-4b12-c10e-a295dfa00875"
      },
      "execution_count": 44,
      "outputs": [
        {
          "output_type": "stream",
          "name": "stdout",
          "text": [
            "[[  0   1   4]\n",
            " [  9  16  25]\n",
            " [ 36  49  64]\n",
            " [ 81 100 121]]\n",
            "[[ 9 16 25]\n",
            " [36 49 64]]\n",
            "[[16]\n",
            " [49]]\n",
            "[36 49 64]\n",
            "[[ 0  1  4]\n",
            " [ 9 16 25]\n",
            " [36 49 64]]\n",
            "[ 81 100 121]\n",
            "121\n"
          ]
        }
      ]
    },
    {
      "cell_type": "code",
      "source": [
        "a=np.arange(12).reshape(4,3)**2\n",
        "print(a)\n",
        "print(\" \")\n",
        "for i in a:\n",
        "  print(i*2)"
      ],
      "metadata": {
        "colab": {
          "base_uri": "https://localhost:8080/",
          "height": 0
        },
        "id": "EuCAhgl4jY0s",
        "outputId": "5216a8cf-4625-40a9-aa8a-902ce7fa70e4"
      },
      "execution_count": 47,
      "outputs": [
        {
          "output_type": "stream",
          "name": "stdout",
          "text": [
            "[[  0   1   4]\n",
            " [  9  16  25]\n",
            " [ 36  49  64]\n",
            " [ 81 100 121]]\n",
            " \n",
            "[0 2 8]\n",
            "[18 32 50]\n",
            "[ 72  98 128]\n",
            "[162 200 242]\n"
          ]
        }
      ]
    },
    {
      "cell_type": "code",
      "source": [
        "a=np.floor(10*np.random.random((3,4)))\n",
        "print(a)\n",
        "print(a.reshape(2,6))\n",
        "print(a.ravel())\n",
        "print(a.T)"
      ],
      "metadata": {
        "colab": {
          "base_uri": "https://localhost:8080/",
          "height": 0
        },
        "id": "oFnC_GIyjvbl",
        "outputId": "441f3a51-c2d5-4351-a500-112c1c658724"
      },
      "execution_count": 51,
      "outputs": [
        {
          "output_type": "stream",
          "name": "stdout",
          "text": [
            "[[7. 9. 5. 8.]\n",
            " [6. 7. 5. 9.]\n",
            " [9. 5. 6. 4.]]\n",
            "[[7. 9. 5. 8. 6. 7.]\n",
            " [5. 9. 9. 5. 6. 4.]]\n",
            "[7. 9. 5. 8. 6. 7. 5. 9. 9. 5. 6. 4.]\n",
            "[[7. 6. 9.]\n",
            " [9. 7. 5.]\n",
            " [5. 5. 6.]\n",
            " [8. 9. 4.]]\n"
          ]
        }
      ]
    }
  ]
}